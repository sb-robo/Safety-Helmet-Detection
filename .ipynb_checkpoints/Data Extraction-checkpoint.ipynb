{
 "cells": [
  {
   "cell_type": "markdown",
   "metadata": {},
   "source": [
    "### Import Basic Libraries"
   ]
  },
  {
   "cell_type": "code",
   "execution_count": 1,
   "metadata": {},
   "outputs": [],
   "source": [
    "import sys\n",
    "import os\n",
    "import numpy as np\n",
    "import pandas as pd\n",
    "from xml.etree import ElementTree "
   ]
  },
  {
   "cell_type": "code",
   "execution_count": 2,
   "metadata": {},
   "outputs": [],
   "source": [
    "xml_path = '../Dataset - Safety Helment/annotations'\n",
    "img_path = '../Dataset - Safety Helment/Safety Helmat/images'"
   ]
  },
  {
   "cell_type": "markdown",
   "metadata": {},
   "source": [
    "<b>Lets take a look on \".xml\" file</b>\n",
    "\n",
    "- In the below image we can observe, three main elements\n",
    "    - filename : This defines the image name\n",
    "    - size : This defines the image size\n",
    "    - object : This defines a object inside the image\n",
    "- object element has two main component\n",
    "    - name : Defines object type (Helmet/Person/Head)\n",
    "    - bndbox : Defines the object position in image\n",
    "\n",
    "<img align=\"left\" src=\"./sample_image.png\" style=\"border-radius:6px\">"
   ]
  },
  {
   "cell_type": "code",
   "execution_count": null,
   "metadata": {},
   "outputs": [],
   "source": []
  }
 ],
 "metadata": {
  "kernelspec": {
   "display_name": "Python 3",
   "language": "python",
   "name": "python3"
  },
  "language_info": {
   "codemirror_mode": {
    "name": "ipython",
    "version": 3
   },
   "file_extension": ".py",
   "mimetype": "text/x-python",
   "name": "python",
   "nbconvert_exporter": "python",
   "pygments_lexer": "ipython3",
   "version": "3.6.9"
  }
 },
 "nbformat": 4,
 "nbformat_minor": 4
}
