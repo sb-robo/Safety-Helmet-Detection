{
 "cells": [
  {
   "cell_type": "markdown",
   "metadata": {},
   "source": [
    "### Import Basic Libraries"
   ]
  },
  {
   "cell_type": "code",
   "execution_count": 1,
   "metadata": {},
   "outputs": [],
   "source": [
    "import sys\n",
    "import os\n",
    "import numpy as np\n",
    "import pandas as pd\n",
    "from xml.etree import ElementTree "
   ]
  },
  {
   "cell_type": "code",
   "execution_count": 2,
   "metadata": {},
   "outputs": [],
   "source": [
    "xml_path = '../Dataset - Safety Helment/annotations'\n",
    "img_path = '../Dataset - Safety Helment/Safety Helmat/images'"
   ]
  },
  {
   "cell_type": "markdown",
   "metadata": {},
   "source": [
    "<b>Lets take a look on \".xml\" file</b>\n",
    "\n",
    "- In the below image we can observe, three main elements\n",
    "    - filename : This defines the image name\n",
    "    - size : This defines the image size\n",
    "    - object : This defines a object inside the image\n",
    "- object element has two main component\n",
    "    - name : Defines object type (Helmet/Person/Head)\n",
    "    - bndbox : Defines the object position in image\n",
    "\n",
    "<img align=\"left\" src=\"./sample_image.png\" style=\"border-radius:6px\">"
   ]
  },
  {
   "cell_type": "code",
   "execution_count": 5,
   "metadata": {},
   "outputs": [],
   "source": [
    "# read & process xml files\n",
    "\n",
    "object_x1 = []       #objects xmin coordinate\n",
    "object_y1 = []       #objects ymin coordinate\n",
    "object_x2 = []       #objects xmax coordinate\n",
    "object_y2 = []       #objects ymax coordinate\n",
    "labels = []          #objects label/type\n",
    "file_title = []      #file title\n",
    "\n",
    "for file in os.listdir(xml_path):\n",
    "    if '.xml' in file:\n",
    "        objects = ElementTree.parse(os.path.join(xml_path,file)).findall('object')\n",
    "        object_x1.append([int(obj.find(\"bndbox\").findtext(\"xmin\")) for obj in objects])\n",
    "        object_y1.append([int(obj.find(\"bndbox\").findtext(\"ymin\")) for obj in objects])\n",
    "        object_x2.append([int(obj.find(\"bndbox\").findtext(\"xmax\")) for obj in objects])\n",
    "        object_y2.append([int(obj.find(\"bndbox\").findtext(\"ymax\")) for obj in objects])\n",
    "        labels.append([obj.findtext('name') for obj in objects])\n",
    "        \n",
    "        file_title.append(file[:-4])"
   ]
  },
  {
   "cell_type": "code",
   "execution_count": 6,
   "metadata": {},
   "outputs": [
    {
     "data": {
      "text/html": [
       "<div>\n",
       "<style scoped>\n",
       "    .dataframe tbody tr th:only-of-type {\n",
       "        vertical-align: middle;\n",
       "    }\n",
       "\n",
       "    .dataframe tbody tr th {\n",
       "        vertical-align: top;\n",
       "    }\n",
       "\n",
       "    .dataframe thead th {\n",
       "        text-align: right;\n",
       "    }\n",
       "</style>\n",
       "<table border=\"1\" class=\"dataframe\">\n",
       "  <thead>\n",
       "    <tr style=\"text-align: right;\">\n",
       "      <th></th>\n",
       "      <th>file_name</th>\n",
       "      <th>xmin</th>\n",
       "      <th>ymin</th>\n",
       "      <th>xmax</th>\n",
       "      <th>ymax</th>\n",
       "      <th>label</th>\n",
       "    </tr>\n",
       "  </thead>\n",
       "  <tbody>\n",
       "    <tr>\n",
       "      <th>0</th>\n",
       "      <td>hard_hat_workers2536</td>\n",
       "      <td>[239, 102, 102]</td>\n",
       "      <td>[114, 67, 0]</td>\n",
       "      <td>[262, 148, 149]</td>\n",
       "      <td>[149, 121, 38]</td>\n",
       "      <td>[helmet, helmet, helmet]</td>\n",
       "    </tr>\n",
       "    <tr>\n",
       "      <th>1</th>\n",
       "      <td>hard_hat_workers721</td>\n",
       "      <td>[203, 223, 231, 251, 285, 304, 380, 370, 344]</td>\n",
       "      <td>[190, 196, 205, 184, 183, 164, 183, 210, 194]</td>\n",
       "      <td>[217, 237, 245, 265, 299, 324, 396, 382, 358]</td>\n",
       "      <td>[209, 214, 219, 204, 202, 188, 202, 225, 213]</td>\n",
       "      <td>[helmet, helmet, helmet, helmet, helmet, helme...</td>\n",
       "    </tr>\n",
       "    <tr>\n",
       "      <th>2</th>\n",
       "      <td>hard_hat_workers3425</td>\n",
       "      <td>[135, 226, 181, 134, 181]</td>\n",
       "      <td>[116, 172, 131, 0, 0]</td>\n",
       "      <td>[162, 251, 207, 162, 208]</td>\n",
       "      <td>[148, 204, 156, 23, 8]</td>\n",
       "      <td>[helmet, helmet, helmet, helmet, helmet]</td>\n",
       "    </tr>\n",
       "    <tr>\n",
       "      <th>3</th>\n",
       "      <td>hard_hat_workers3947</td>\n",
       "      <td>[113, 142, 184, 223, 269, 306, 335, 134]</td>\n",
       "      <td>[148, 138, 158, 134, 161, 165, 157, 143]</td>\n",
       "      <td>[132, 166, 216, 267, 309, 325, 394, 145]</td>\n",
       "      <td>[174, 176, 198, 187, 210, 192, 226, 173]</td>\n",
       "      <td>[helmet, helmet, helmet, helmet, helmet, helme...</td>\n",
       "    </tr>\n",
       "    <tr>\n",
       "      <th>4</th>\n",
       "      <td>hard_hat_workers1934</td>\n",
       "      <td>[204, 334]</td>\n",
       "      <td>[70, 69]</td>\n",
       "      <td>[332, 414]</td>\n",
       "      <td>[211, 211]</td>\n",
       "      <td>[helmet, helmet]</td>\n",
       "    </tr>\n",
       "  </tbody>\n",
       "</table>\n",
       "</div>"
      ],
      "text/plain": [
       "              file_name                                           xmin  \\\n",
       "0  hard_hat_workers2536                                [239, 102, 102]   \n",
       "1   hard_hat_workers721  [203, 223, 231, 251, 285, 304, 380, 370, 344]   \n",
       "2  hard_hat_workers3425                      [135, 226, 181, 134, 181]   \n",
       "3  hard_hat_workers3947       [113, 142, 184, 223, 269, 306, 335, 134]   \n",
       "4  hard_hat_workers1934                                     [204, 334]   \n",
       "\n",
       "                                            ymin  \\\n",
       "0                                   [114, 67, 0]   \n",
       "1  [190, 196, 205, 184, 183, 164, 183, 210, 194]   \n",
       "2                          [116, 172, 131, 0, 0]   \n",
       "3       [148, 138, 158, 134, 161, 165, 157, 143]   \n",
       "4                                       [70, 69]   \n",
       "\n",
       "                                            xmax  \\\n",
       "0                                [262, 148, 149]   \n",
       "1  [217, 237, 245, 265, 299, 324, 396, 382, 358]   \n",
       "2                      [162, 251, 207, 162, 208]   \n",
       "3       [132, 166, 216, 267, 309, 325, 394, 145]   \n",
       "4                                     [332, 414]   \n",
       "\n",
       "                                            ymax  \\\n",
       "0                                 [149, 121, 38]   \n",
       "1  [209, 214, 219, 204, 202, 188, 202, 225, 213]   \n",
       "2                         [148, 204, 156, 23, 8]   \n",
       "3       [174, 176, 198, 187, 210, 192, 226, 173]   \n",
       "4                                     [211, 211]   \n",
       "\n",
       "                                               label  \n",
       "0                           [helmet, helmet, helmet]  \n",
       "1  [helmet, helmet, helmet, helmet, helmet, helme...  \n",
       "2           [helmet, helmet, helmet, helmet, helmet]  \n",
       "3  [helmet, helmet, helmet, helmet, helmet, helme...  \n",
       "4                                   [helmet, helmet]  "
      ]
     },
     "execution_count": 6,
     "metadata": {},
     "output_type": "execute_result"
    }
   ],
   "source": [
    "object_dict = {\n",
    "    'file_name' : file_title,\n",
    "    'xmin' : object_x1,\n",
    "    'ymin' : object_y1,\n",
    "    'xmax' : object_x2,\n",
    "    'ymax' : object_y2,\n",
    "    'label' : labels\n",
    "}\n",
    "\n",
    "df = pd.DataFrame(object_dict)\n",
    "\n",
    "df.head()"
   ]
  },
  {
   "cell_type": "code",
   "execution_count": 7,
   "metadata": {},
   "outputs": [],
   "source": [
    "# Save the dataframe for furture purpose\n",
    "\n",
    "df.to_csv('./Dataset.csv',index=False)"
   ]
  },
  {
   "cell_type": "markdown",
   "metadata": {},
   "source": [
    "### Extract Useful labels"
   ]
  },
  {
   "cell_type": "code",
   "execution_count": 8,
   "metadata": {},
   "outputs": [],
   "source": [
    "import pickle"
   ]
  },
  {
   "cell_type": "code",
   "execution_count": 9,
   "metadata": {},
   "outputs": [],
   "source": [
    "# define function for bounding box\n",
    "# we will discard 'person' labels \n",
    "\n",
    "def getBoundingBox(df):\n",
    "    \n",
    "    boundingBoxDict = {}\n",
    "    for i in range(df.shape[0]):\n",
    "        label = []\n",
    "        dimension = []\n",
    "        boundingBox = {}\n",
    "        \n",
    "        dims = df.iloc[i][1:-1].values\n",
    "        lbl = df.iloc[i][-1]\n",
    "        for j in range(len(lbl)):\n",
    "            if lbl[j] != 'person':\n",
    "                #we will discard person labels\n",
    "                bbox = [dim[j] for dim in dims]\n",
    "                dimension.append(bbox)\n",
    "                label.append(lbl[j])\n",
    "                \n",
    "        boundingBox['dimension'] = dimension\n",
    "        boundingBox['label'] = label\n",
    "        boundingBoxDict[df.iloc[i][0] + '.png'] = boundingBox\n",
    "        \n",
    "    return boundingBoxDict"
   ]
  },
  {
   "cell_type": "code",
   "execution_count": 10,
   "metadata": {},
   "outputs": [
    {
     "data": {
      "text/plain": [
       "{'dimension': [[357, 116, 404, 175],\n",
       "  [4, 146, 39, 184],\n",
       "  [253, 139, 275, 177],\n",
       "  [300, 145, 323, 181],\n",
       "  [116, 151, 138, 180],\n",
       "  [80, 151, 100, 180],\n",
       "  [62, 144, 83, 172],\n",
       "  [322, 141, 345, 178],\n",
       "  [175, 156, 194, 186],\n",
       "  [222, 151, 240, 182],\n",
       "  [200, 146, 216, 173],\n",
       "  [98, 140, 112, 160],\n",
       "  [157, 150, 175, 177]],\n",
       " 'label': ['helmet',\n",
       "  'helmet',\n",
       "  'helmet',\n",
       "  'helmet',\n",
       "  'helmet',\n",
       "  'helmet',\n",
       "  'head',\n",
       "  'head',\n",
       "  'head',\n",
       "  'head',\n",
       "  'head',\n",
       "  'helmet',\n",
       "  'head']}"
      ]
     },
     "execution_count": 10,
     "metadata": {},
     "output_type": "execute_result"
    }
   ],
   "source": [
    "boundingBoxDict = getBoundingBox(df)\n",
    "\n",
    "boundingBoxDict['hard_hat_workers0.png']"
   ]
  },
  {
   "cell_type": "code",
   "execution_count": 11,
   "metadata": {},
   "outputs": [],
   "source": [
    "with open('./useful_labels.pkl','wb') as f:\n",
    "    pickle.dump(boundingBoxDict,f)"
   ]
  },
  {
   "cell_type": "code",
   "execution_count": null,
   "metadata": {},
   "outputs": [],
   "source": []
  }
 ],
 "metadata": {
  "kernelspec": {
   "display_name": "Python 3",
   "language": "python",
   "name": "python3"
  },
  "language_info": {
   "codemirror_mode": {
    "name": "ipython",
    "version": 3
   },
   "file_extension": ".py",
   "mimetype": "text/x-python",
   "name": "python",
   "nbconvert_exporter": "python",
   "pygments_lexer": "ipython3",
   "version": "3.6.9"
  }
 },
 "nbformat": 4,
 "nbformat_minor": 4
}
